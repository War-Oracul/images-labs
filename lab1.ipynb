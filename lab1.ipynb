{
 "cells": [
  {
   "cell_type": "markdown",
   "metadata": {},
   "source": [
    "Сравнить две матрицы со случайными значениями на равенство\n",
    "A = np.random.randint(0,2,5)\n",
    "B = np.random.randint(0,2,5)"
   ]
  },
  {
   "cell_type": "code",
   "execution_count": 1,
   "metadata": {},
   "outputs": [],
   "source": [
    "import numpy as  np"
   ]
  },
  {
   "cell_type": "code",
   "execution_count": 2,
   "metadata": {},
   "outputs": [
    {
     "name": "stdout",
     "output_type": "stream",
     "text": [
      "Matrix A:\n",
      " [[ 26 -16  -4 -15  13 -27  -6 -23 -16 -16]\n",
      " [-14 -15 -25  27 -26  -8  10 -12 -13 -28]\n",
      " [-17  -3  22   8 -28  20  14  12 -10  16]\n",
      " [  1 -23  14  17 -18  11 -25   0   2  10]\n",
      " [-30  27 -15 -24  15 -21  18  24  17  -8]\n",
      " [-23  16 -30  23 -21   1  25   7  19   3]\n",
      " [-15 -25  19 -23 -12  -4  13  12  21  24]\n",
      " [  7  13  12  27 -12 -16  -7   2 -16 -20]\n",
      " [ 27  -9  25  16 -30   9  -5  29 -25   3]\n",
      " [-10  -3  -9 -22 -24  19  24 -20  23  19]]\n",
      "Matrix B:\n",
      " [[ 14   2   2  28   4  -3 -21 -29  -1  25]\n",
      " [-30 -12  20  -8   4 -23  -6   6  12  14]\n",
      " [ -1  24   4 -11  24   6 -30  29  13  26]\n",
      " [ 29 -26 -23 -12  22 -24  24  -5  18  24]\n",
      " [-20   6   3  10  15 -28  -8  -9   0  24]\n",
      " [ -9   5 -13  -9   5   6  14  -1  18 -17]\n",
      " [ -3  -3 -14  12 -27 -20 -12   5   4  16]\n",
      " [ 15 -22  11  -3   2 -29 -14  18 -19  10]\n",
      " [  7  18  -1 -21  14 -25  25 -26   8   4]\n",
      " [ 23  13  18 -22   9 -19   0   7 -18  14]]\n",
      "Result of operation:\n",
      "Matrix not equal\n"
     ]
    }
   ],
   "source": [
    "rnd = np.random.default_rng()\n",
    "A = rnd.integers(-30, 30, (10, 10))\n",
    "B = rnd.integers(-30, 30, (10, 10))\n",
    "print(\"Matrix A:\\n\",A)\n",
    "print(\"Matrix B:\\n\",B)\n",
    "print(\"Result of operation:\")\n",
    "if np.array_equal(A,B):\n",
    "    print(\"Matrix equal\")\n",
    "else:\n",
    "    print(\"Matrix not equal\")"
   ]
  },
  {
   "cell_type": "code",
   "execution_count": null,
   "metadata": {},
   "outputs": [],
   "source": []
  }
 ],
 "metadata": {
  "kernelspec": {
   "display_name": "Python 3 (ipykernel)",
   "language": "python",
   "name": "python3"
  },
  "language_info": {
   "codemirror_mode": {
    "name": "ipython",
    "version": 3
   },
   "file_extension": ".py",
   "mimetype": "text/x-python",
   "name": "python",
   "nbconvert_exporter": "python",
   "pygments_lexer": "ipython3",
   "version": "3.9.12"
  }
 },
 "nbformat": 4,
 "nbformat_minor": 2
}
